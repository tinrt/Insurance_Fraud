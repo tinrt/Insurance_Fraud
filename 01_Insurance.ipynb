{
  "nbformat": 4,
  "nbformat_minor": 0,
  "metadata": {
    "colab": {
      "provenance": []
    },
    "kernelspec": {
      "name": "python3",
      "display_name": "Python 3"
    },
    "language_info": {
      "name": "python"
    }
  },
  "cells": [
    {
      "cell_type": "markdown",
      "source": [
        "#Import Packages\n"
      ],
      "metadata": {
        "id": "1HAkClO8OYkn"
      }
    },
    {
      "cell_type": "code",
      "execution_count": 274,
      "metadata": {
        "id": "Zo6lDHJ4OGer"
      },
      "outputs": [],
      "source": [
        "import pandas as pd\n",
        "import numpy as np\n",
        "import matplotlib.pyplot as plt #visualization\n",
        "import seaborn as sns #visualization\n",
        "import sklearn\n",
        "import datetime\n",
        "from sklearn import preprocessing #scaling\n",
        "from sklearn.model_selection import train_test_split,GridSearchCV\n",
        "from sklearn.model_selection import cross_val_score #parameter tuning\n",
        "from sklearn.model_selection import RepeatedKFold #parameter tuning\n",
        "from imblearn.over_sampling import RandomOverSampler\n",
        "from imblearn.under_sampling import RandomUnderSampler\n",
        "import category_encoders as ce\n",
        "from sklearn.preprocessing import MinMaxScaler\n",
        "from sklearn.linear_model import LogisticRegression\n",
        "from sklearn.discriminant_analysis import LinearDiscriminantAnalysis, QuadraticDiscriminantAnalysis\n",
        "from sklearn.metrics import classification_report\n",
        "from sklearn.naive_bayes import GaussianNB\n",
        "from sklearn.linear_model import Lasso\n",
        "from sklearn.metrics import  r2_score\n",
        "from sklearn.neighbors import KNeighborsClassifier\n",
        "from sklearn.svm import SVC\n",
        "from sklearn.tree import DecisionTreeClassifier\n",
        "from sklearn.ensemble import RandomForestClassifier\n"
      ]
    },
    {
      "cell_type": "markdown",
      "source": [
        "#Reading Data"
      ],
      "metadata": {
        "id": "_TXwhukcQYYk"
      }
    },
    {
      "cell_type": "code",
      "source": [
        "df=pd.read_csv(\"/content/drive/MyDrive/ML_BH/fraud_oracle.csv\")\n",
        "df.drop(['PolicyNumber','RepNumber'],inplace=True,axis=1)\n",
        "df.info()\n",
        "df.drop_duplicates()"
      ],
      "metadata": {
        "colab": {
          "base_uri": "https://localhost:8080/",
          "height": 1000
        },
        "id": "3P0UoB7bPxPq",
        "outputId": "0c66059f-fb01-4ea5-e561-9196e8f1d64d"
      },
      "execution_count": 90,
      "outputs": [
        {
          "output_type": "stream",
          "name": "stdout",
          "text": [
            "<class 'pandas.core.frame.DataFrame'>\n",
            "RangeIndex: 15420 entries, 0 to 15419\n",
            "Data columns (total 31 columns):\n",
            " #   Column                Non-Null Count  Dtype \n",
            "---  ------                --------------  ----- \n",
            " 0   Month                 15420 non-null  object\n",
            " 1   WeekOfMonth           15420 non-null  int64 \n",
            " 2   DayOfWeek             15420 non-null  object\n",
            " 3   Make                  15420 non-null  object\n",
            " 4   AccidentArea          15420 non-null  object\n",
            " 5   DayOfWeekClaimed      15420 non-null  object\n",
            " 6   MonthClaimed          15420 non-null  object\n",
            " 7   WeekOfMonthClaimed    15420 non-null  int64 \n",
            " 8   Sex                   15420 non-null  object\n",
            " 9   MaritalStatus         15420 non-null  object\n",
            " 10  Age                   15420 non-null  int64 \n",
            " 11  Fault                 15420 non-null  object\n",
            " 12  PolicyType            15420 non-null  object\n",
            " 13  VehicleCategory       15420 non-null  object\n",
            " 14  VehiclePrice          15420 non-null  object\n",
            " 15  FraudFound_P          15420 non-null  int64 \n",
            " 16  Deductible            15420 non-null  int64 \n",
            " 17  DriverRating          15420 non-null  int64 \n",
            " 18  Days_Policy_Accident  15420 non-null  object\n",
            " 19  Days_Policy_Claim     15420 non-null  object\n",
            " 20  PastNumberOfClaims    15420 non-null  object\n",
            " 21  AgeOfVehicle          15420 non-null  object\n",
            " 22  AgeOfPolicyHolder     15420 non-null  object\n",
            " 23  PoliceReportFiled     15420 non-null  object\n",
            " 24  WitnessPresent        15420 non-null  object\n",
            " 25  AgentType             15420 non-null  object\n",
            " 26  NumberOfSuppliments   15420 non-null  object\n",
            " 27  AddressChange_Claim   15420 non-null  object\n",
            " 28  NumberOfCars          15420 non-null  object\n",
            " 29  Year                  15420 non-null  int64 \n",
            " 30  BasePolicy            15420 non-null  object\n",
            "dtypes: int64(7), object(24)\n",
            "memory usage: 3.6+ MB\n"
          ]
        },
        {
          "output_type": "execute_result",
          "data": {
            "text/plain": [
              "      Month  WeekOfMonth  DayOfWeek     Make AccidentArea DayOfWeekClaimed  \\\n",
              "0       Dec            5  Wednesday    Honda        Urban          Tuesday   \n",
              "1       Jan            3  Wednesday    Honda        Urban           Monday   \n",
              "2       Oct            5     Friday    Honda        Urban         Thursday   \n",
              "3       Jun            2   Saturday   Toyota        Rural           Friday   \n",
              "4       Jan            5     Monday    Honda        Urban          Tuesday   \n",
              "...     ...          ...        ...      ...          ...              ...   \n",
              "15415   Nov            4     Friday   Toyota        Urban          Tuesday   \n",
              "15416   Nov            5   Thursday  Pontiac        Urban           Friday   \n",
              "15417   Nov            5   Thursday   Toyota        Rural           Friday   \n",
              "15418   Dec            1     Monday   Toyota        Urban         Thursday   \n",
              "15419   Dec            2  Wednesday   Toyota        Urban         Thursday   \n",
              "\n",
              "      MonthClaimed  WeekOfMonthClaimed     Sex MaritalStatus  ...  \\\n",
              "0              Jan                   1  Female        Single  ...   \n",
              "1              Jan                   4    Male        Single  ...   \n",
              "2              Nov                   2    Male       Married  ...   \n",
              "3              Jul                   1    Male       Married  ...   \n",
              "4              Feb                   2  Female        Single  ...   \n",
              "...            ...                 ...     ...           ...  ...   \n",
              "15415          Nov                   5    Male       Married  ...   \n",
              "15416          Dec                   1    Male       Married  ...   \n",
              "15417          Dec                   1    Male        Single  ...   \n",
              "15418          Dec                   2  Female       Married  ...   \n",
              "15419          Dec                   3    Male        Single  ...   \n",
              "\n",
              "       AgeOfVehicle AgeOfPolicyHolder PoliceReportFiled WitnessPresent  \\\n",
              "0           3 years          26 to 30                No             No   \n",
              "1           6 years          31 to 35               Yes             No   \n",
              "2           7 years          41 to 50                No             No   \n",
              "3       more than 7          51 to 65               Yes             No   \n",
              "4           5 years          31 to 35                No             No   \n",
              "...             ...               ...               ...            ...   \n",
              "15415       6 years          31 to 35                No             No   \n",
              "15416       6 years          31 to 35                No             No   \n",
              "15417       5 years          26 to 30                No             No   \n",
              "15418       2 years          31 to 35                No             No   \n",
              "15419       5 years          26 to 30                No             No   \n",
              "\n",
              "      AgentType  NumberOfSuppliments  AddressChange_Claim  NumberOfCars  Year  \\\n",
              "0      External                 none               1 year        3 to 4  1994   \n",
              "1      External                 none            no change     1 vehicle  1994   \n",
              "2      External                 none            no change     1 vehicle  1994   \n",
              "3      External          more than 5            no change     1 vehicle  1994   \n",
              "4      External                 none            no change     1 vehicle  1994   \n",
              "...         ...                  ...                  ...           ...   ...   \n",
              "15415  External                 none            no change     1 vehicle  1996   \n",
              "15416  External          more than 5            no change        3 to 4  1996   \n",
              "15417  External               1 to 2            no change     1 vehicle  1996   \n",
              "15418  External          more than 5            no change     1 vehicle  1996   \n",
              "15419  External               1 to 2            no change     1 vehicle  1996   \n",
              "\n",
              "       BasePolicy  \n",
              "0       Liability  \n",
              "1       Collision  \n",
              "2       Collision  \n",
              "3       Liability  \n",
              "4       Collision  \n",
              "...           ...  \n",
              "15415   Collision  \n",
              "15416   Liability  \n",
              "15417   Collision  \n",
              "15418  All Perils  \n",
              "15419   Collision  \n",
              "\n",
              "[15420 rows x 31 columns]"
            ],
            "text/html": [
              "\n",
              "  <div id=\"df-27696614-ec9d-487d-b71c-b5953e908ddc\">\n",
              "    <div class=\"colab-df-container\">\n",
              "      <div>\n",
              "<style scoped>\n",
              "    .dataframe tbody tr th:only-of-type {\n",
              "        vertical-align: middle;\n",
              "    }\n",
              "\n",
              "    .dataframe tbody tr th {\n",
              "        vertical-align: top;\n",
              "    }\n",
              "\n",
              "    .dataframe thead th {\n",
              "        text-align: right;\n",
              "    }\n",
              "</style>\n",
              "<table border=\"1\" class=\"dataframe\">\n",
              "  <thead>\n",
              "    <tr style=\"text-align: right;\">\n",
              "      <th></th>\n",
              "      <th>Month</th>\n",
              "      <th>WeekOfMonth</th>\n",
              "      <th>DayOfWeek</th>\n",
              "      <th>Make</th>\n",
              "      <th>AccidentArea</th>\n",
              "      <th>DayOfWeekClaimed</th>\n",
              "      <th>MonthClaimed</th>\n",
              "      <th>WeekOfMonthClaimed</th>\n",
              "      <th>Sex</th>\n",
              "      <th>MaritalStatus</th>\n",
              "      <th>...</th>\n",
              "      <th>AgeOfVehicle</th>\n",
              "      <th>AgeOfPolicyHolder</th>\n",
              "      <th>PoliceReportFiled</th>\n",
              "      <th>WitnessPresent</th>\n",
              "      <th>AgentType</th>\n",
              "      <th>NumberOfSuppliments</th>\n",
              "      <th>AddressChange_Claim</th>\n",
              "      <th>NumberOfCars</th>\n",
              "      <th>Year</th>\n",
              "      <th>BasePolicy</th>\n",
              "    </tr>\n",
              "  </thead>\n",
              "  <tbody>\n",
              "    <tr>\n",
              "      <th>0</th>\n",
              "      <td>Dec</td>\n",
              "      <td>5</td>\n",
              "      <td>Wednesday</td>\n",
              "      <td>Honda</td>\n",
              "      <td>Urban</td>\n",
              "      <td>Tuesday</td>\n",
              "      <td>Jan</td>\n",
              "      <td>1</td>\n",
              "      <td>Female</td>\n",
              "      <td>Single</td>\n",
              "      <td>...</td>\n",
              "      <td>3 years</td>\n",
              "      <td>26 to 30</td>\n",
              "      <td>No</td>\n",
              "      <td>No</td>\n",
              "      <td>External</td>\n",
              "      <td>none</td>\n",
              "      <td>1 year</td>\n",
              "      <td>3 to 4</td>\n",
              "      <td>1994</td>\n",
              "      <td>Liability</td>\n",
              "    </tr>\n",
              "    <tr>\n",
              "      <th>1</th>\n",
              "      <td>Jan</td>\n",
              "      <td>3</td>\n",
              "      <td>Wednesday</td>\n",
              "      <td>Honda</td>\n",
              "      <td>Urban</td>\n",
              "      <td>Monday</td>\n",
              "      <td>Jan</td>\n",
              "      <td>4</td>\n",
              "      <td>Male</td>\n",
              "      <td>Single</td>\n",
              "      <td>...</td>\n",
              "      <td>6 years</td>\n",
              "      <td>31 to 35</td>\n",
              "      <td>Yes</td>\n",
              "      <td>No</td>\n",
              "      <td>External</td>\n",
              "      <td>none</td>\n",
              "      <td>no change</td>\n",
              "      <td>1 vehicle</td>\n",
              "      <td>1994</td>\n",
              "      <td>Collision</td>\n",
              "    </tr>\n",
              "    <tr>\n",
              "      <th>2</th>\n",
              "      <td>Oct</td>\n",
              "      <td>5</td>\n",
              "      <td>Friday</td>\n",
              "      <td>Honda</td>\n",
              "      <td>Urban</td>\n",
              "      <td>Thursday</td>\n",
              "      <td>Nov</td>\n",
              "      <td>2</td>\n",
              "      <td>Male</td>\n",
              "      <td>Married</td>\n",
              "      <td>...</td>\n",
              "      <td>7 years</td>\n",
              "      <td>41 to 50</td>\n",
              "      <td>No</td>\n",
              "      <td>No</td>\n",
              "      <td>External</td>\n",
              "      <td>none</td>\n",
              "      <td>no change</td>\n",
              "      <td>1 vehicle</td>\n",
              "      <td>1994</td>\n",
              "      <td>Collision</td>\n",
              "    </tr>\n",
              "    <tr>\n",
              "      <th>3</th>\n",
              "      <td>Jun</td>\n",
              "      <td>2</td>\n",
              "      <td>Saturday</td>\n",
              "      <td>Toyota</td>\n",
              "      <td>Rural</td>\n",
              "      <td>Friday</td>\n",
              "      <td>Jul</td>\n",
              "      <td>1</td>\n",
              "      <td>Male</td>\n",
              "      <td>Married</td>\n",
              "      <td>...</td>\n",
              "      <td>more than 7</td>\n",
              "      <td>51 to 65</td>\n",
              "      <td>Yes</td>\n",
              "      <td>No</td>\n",
              "      <td>External</td>\n",
              "      <td>more than 5</td>\n",
              "      <td>no change</td>\n",
              "      <td>1 vehicle</td>\n",
              "      <td>1994</td>\n",
              "      <td>Liability</td>\n",
              "    </tr>\n",
              "    <tr>\n",
              "      <th>4</th>\n",
              "      <td>Jan</td>\n",
              "      <td>5</td>\n",
              "      <td>Monday</td>\n",
              "      <td>Honda</td>\n",
              "      <td>Urban</td>\n",
              "      <td>Tuesday</td>\n",
              "      <td>Feb</td>\n",
              "      <td>2</td>\n",
              "      <td>Female</td>\n",
              "      <td>Single</td>\n",
              "      <td>...</td>\n",
              "      <td>5 years</td>\n",
              "      <td>31 to 35</td>\n",
              "      <td>No</td>\n",
              "      <td>No</td>\n",
              "      <td>External</td>\n",
              "      <td>none</td>\n",
              "      <td>no change</td>\n",
              "      <td>1 vehicle</td>\n",
              "      <td>1994</td>\n",
              "      <td>Collision</td>\n",
              "    </tr>\n",
              "    <tr>\n",
              "      <th>...</th>\n",
              "      <td>...</td>\n",
              "      <td>...</td>\n",
              "      <td>...</td>\n",
              "      <td>...</td>\n",
              "      <td>...</td>\n",
              "      <td>...</td>\n",
              "      <td>...</td>\n",
              "      <td>...</td>\n",
              "      <td>...</td>\n",
              "      <td>...</td>\n",
              "      <td>...</td>\n",
              "      <td>...</td>\n",
              "      <td>...</td>\n",
              "      <td>...</td>\n",
              "      <td>...</td>\n",
              "      <td>...</td>\n",
              "      <td>...</td>\n",
              "      <td>...</td>\n",
              "      <td>...</td>\n",
              "      <td>...</td>\n",
              "      <td>...</td>\n",
              "    </tr>\n",
              "    <tr>\n",
              "      <th>15415</th>\n",
              "      <td>Nov</td>\n",
              "      <td>4</td>\n",
              "      <td>Friday</td>\n",
              "      <td>Toyota</td>\n",
              "      <td>Urban</td>\n",
              "      <td>Tuesday</td>\n",
              "      <td>Nov</td>\n",
              "      <td>5</td>\n",
              "      <td>Male</td>\n",
              "      <td>Married</td>\n",
              "      <td>...</td>\n",
              "      <td>6 years</td>\n",
              "      <td>31 to 35</td>\n",
              "      <td>No</td>\n",
              "      <td>No</td>\n",
              "      <td>External</td>\n",
              "      <td>none</td>\n",
              "      <td>no change</td>\n",
              "      <td>1 vehicle</td>\n",
              "      <td>1996</td>\n",
              "      <td>Collision</td>\n",
              "    </tr>\n",
              "    <tr>\n",
              "      <th>15416</th>\n",
              "      <td>Nov</td>\n",
              "      <td>5</td>\n",
              "      <td>Thursday</td>\n",
              "      <td>Pontiac</td>\n",
              "      <td>Urban</td>\n",
              "      <td>Friday</td>\n",
              "      <td>Dec</td>\n",
              "      <td>1</td>\n",
              "      <td>Male</td>\n",
              "      <td>Married</td>\n",
              "      <td>...</td>\n",
              "      <td>6 years</td>\n",
              "      <td>31 to 35</td>\n",
              "      <td>No</td>\n",
              "      <td>No</td>\n",
              "      <td>External</td>\n",
              "      <td>more than 5</td>\n",
              "      <td>no change</td>\n",
              "      <td>3 to 4</td>\n",
              "      <td>1996</td>\n",
              "      <td>Liability</td>\n",
              "    </tr>\n",
              "    <tr>\n",
              "      <th>15417</th>\n",
              "      <td>Nov</td>\n",
              "      <td>5</td>\n",
              "      <td>Thursday</td>\n",
              "      <td>Toyota</td>\n",
              "      <td>Rural</td>\n",
              "      <td>Friday</td>\n",
              "      <td>Dec</td>\n",
              "      <td>1</td>\n",
              "      <td>Male</td>\n",
              "      <td>Single</td>\n",
              "      <td>...</td>\n",
              "      <td>5 years</td>\n",
              "      <td>26 to 30</td>\n",
              "      <td>No</td>\n",
              "      <td>No</td>\n",
              "      <td>External</td>\n",
              "      <td>1 to 2</td>\n",
              "      <td>no change</td>\n",
              "      <td>1 vehicle</td>\n",
              "      <td>1996</td>\n",
              "      <td>Collision</td>\n",
              "    </tr>\n",
              "    <tr>\n",
              "      <th>15418</th>\n",
              "      <td>Dec</td>\n",
              "      <td>1</td>\n",
              "      <td>Monday</td>\n",
              "      <td>Toyota</td>\n",
              "      <td>Urban</td>\n",
              "      <td>Thursday</td>\n",
              "      <td>Dec</td>\n",
              "      <td>2</td>\n",
              "      <td>Female</td>\n",
              "      <td>Married</td>\n",
              "      <td>...</td>\n",
              "      <td>2 years</td>\n",
              "      <td>31 to 35</td>\n",
              "      <td>No</td>\n",
              "      <td>No</td>\n",
              "      <td>External</td>\n",
              "      <td>more than 5</td>\n",
              "      <td>no change</td>\n",
              "      <td>1 vehicle</td>\n",
              "      <td>1996</td>\n",
              "      <td>All Perils</td>\n",
              "    </tr>\n",
              "    <tr>\n",
              "      <th>15419</th>\n",
              "      <td>Dec</td>\n",
              "      <td>2</td>\n",
              "      <td>Wednesday</td>\n",
              "      <td>Toyota</td>\n",
              "      <td>Urban</td>\n",
              "      <td>Thursday</td>\n",
              "      <td>Dec</td>\n",
              "      <td>3</td>\n",
              "      <td>Male</td>\n",
              "      <td>Single</td>\n",
              "      <td>...</td>\n",
              "      <td>5 years</td>\n",
              "      <td>26 to 30</td>\n",
              "      <td>No</td>\n",
              "      <td>No</td>\n",
              "      <td>External</td>\n",
              "      <td>1 to 2</td>\n",
              "      <td>no change</td>\n",
              "      <td>1 vehicle</td>\n",
              "      <td>1996</td>\n",
              "      <td>Collision</td>\n",
              "    </tr>\n",
              "  </tbody>\n",
              "</table>\n",
              "<p>15420 rows × 31 columns</p>\n",
              "</div>\n",
              "      <button class=\"colab-df-convert\" onclick=\"convertToInteractive('df-27696614-ec9d-487d-b71c-b5953e908ddc')\"\n",
              "              title=\"Convert this dataframe to an interactive table.\"\n",
              "              style=\"display:none;\">\n",
              "        \n",
              "  <svg xmlns=\"http://www.w3.org/2000/svg\" height=\"24px\"viewBox=\"0 0 24 24\"\n",
              "       width=\"24px\">\n",
              "    <path d=\"M0 0h24v24H0V0z\" fill=\"none\"/>\n",
              "    <path d=\"M18.56 5.44l.94 2.06.94-2.06 2.06-.94-2.06-.94-.94-2.06-.94 2.06-2.06.94zm-11 1L8.5 8.5l.94-2.06 2.06-.94-2.06-.94L8.5 2.5l-.94 2.06-2.06.94zm10 10l.94 2.06.94-2.06 2.06-.94-2.06-.94-.94-2.06-.94 2.06-2.06.94z\"/><path d=\"M17.41 7.96l-1.37-1.37c-.4-.4-.92-.59-1.43-.59-.52 0-1.04.2-1.43.59L10.3 9.45l-7.72 7.72c-.78.78-.78 2.05 0 2.83L4 21.41c.39.39.9.59 1.41.59.51 0 1.02-.2 1.41-.59l7.78-7.78 2.81-2.81c.8-.78.8-2.07 0-2.86zM5.41 20L4 18.59l7.72-7.72 1.47 1.35L5.41 20z\"/>\n",
              "  </svg>\n",
              "      </button>\n",
              "      \n",
              "  <style>\n",
              "    .colab-df-container {\n",
              "      display:flex;\n",
              "      flex-wrap:wrap;\n",
              "      gap: 12px;\n",
              "    }\n",
              "\n",
              "    .colab-df-convert {\n",
              "      background-color: #E8F0FE;\n",
              "      border: none;\n",
              "      border-radius: 50%;\n",
              "      cursor: pointer;\n",
              "      display: none;\n",
              "      fill: #1967D2;\n",
              "      height: 32px;\n",
              "      padding: 0 0 0 0;\n",
              "      width: 32px;\n",
              "    }\n",
              "\n",
              "    .colab-df-convert:hover {\n",
              "      background-color: #E2EBFA;\n",
              "      box-shadow: 0px 1px 2px rgba(60, 64, 67, 0.3), 0px 1px 3px 1px rgba(60, 64, 67, 0.15);\n",
              "      fill: #174EA6;\n",
              "    }\n",
              "\n",
              "    [theme=dark] .colab-df-convert {\n",
              "      background-color: #3B4455;\n",
              "      fill: #D2E3FC;\n",
              "    }\n",
              "\n",
              "    [theme=dark] .colab-df-convert:hover {\n",
              "      background-color: #434B5C;\n",
              "      box-shadow: 0px 1px 3px 1px rgba(0, 0, 0, 0.15);\n",
              "      filter: drop-shadow(0px 1px 2px rgba(0, 0, 0, 0.3));\n",
              "      fill: #FFFFFF;\n",
              "    }\n",
              "  </style>\n",
              "\n",
              "      <script>\n",
              "        const buttonEl =\n",
              "          document.querySelector('#df-27696614-ec9d-487d-b71c-b5953e908ddc button.colab-df-convert');\n",
              "        buttonEl.style.display =\n",
              "          google.colab.kernel.accessAllowed ? 'block' : 'none';\n",
              "\n",
              "        async function convertToInteractive(key) {\n",
              "          const element = document.querySelector('#df-27696614-ec9d-487d-b71c-b5953e908ddc');\n",
              "          const dataTable =\n",
              "            await google.colab.kernel.invokeFunction('convertToInteractive',\n",
              "                                                     [key], {});\n",
              "          if (!dataTable) return;\n",
              "\n",
              "          const docLinkHtml = 'Like what you see? Visit the ' +\n",
              "            '<a target=\"_blank\" href=https://colab.research.google.com/notebooks/data_table.ipynb>data table notebook</a>'\n",
              "            + ' to learn more about interactive tables.';\n",
              "          element.innerHTML = '';\n",
              "          dataTable['output_type'] = 'display_data';\n",
              "          await google.colab.output.renderOutput(dataTable, element);\n",
              "          const docLink = document.createElement('div');\n",
              "          docLink.innerHTML = docLinkHtml;\n",
              "          element.appendChild(docLink);\n",
              "        }\n",
              "      </script>\n",
              "    </div>\n",
              "  </div>\n",
              "  "
            ]
          },
          "metadata": {},
          "execution_count": 90
        }
      ]
    },
    {
      "cell_type": "markdown",
      "source": [
        "#Check for Classes"
      ],
      "metadata": {
        "id": "SfUAQoQIRuO4"
      }
    },
    {
      "cell_type": "code",
      "source": [
        "df.FraudFound_P.unique()"
      ],
      "metadata": {
        "colab": {
          "base_uri": "https://localhost:8080/"
        },
        "id": "M4FbKlc7SUlN",
        "outputId": "b4bee409-9c8c-4f29-c7f3-a9ed2f892126"
      },
      "execution_count": 80,
      "outputs": [
        {
          "output_type": "execute_result",
          "data": {
            "text/plain": [
              "array([0, 1])"
            ]
          },
          "metadata": {},
          "execution_count": 80
        }
      ]
    },
    {
      "cell_type": "code",
      "source": [
        "fraud = df[df.FraudFound_P==1]\n",
        "nofraud = df[df.FraudFound_P==0]\n",
        "print('non-fraud: ',len(nofraud))\n",
        "print('fraud: ',len(fraud))\n",
        "print('total: ',len(fraud)+len(nofraud))\n",
        "sns.barplot(x=df['FraudFound_P'].value_counts().index,y=df['FraudFound_P'].value_counts()).set(title='No Fraud vs Fraud')"
      ],
      "metadata": {
        "colab": {
          "base_uri": "https://localhost:8080/",
          "height": 525
        },
        "id": "1lUnHVunRg3j",
        "outputId": "5afaeaf2-e765-45c8-8ffe-b90635a064e4"
      },
      "execution_count": 81,
      "outputs": [
        {
          "output_type": "stream",
          "name": "stdout",
          "text": [
            "non-fraud:  14497\n",
            "fraud:  923\n",
            "total:  15420\n"
          ]
        },
        {
          "output_type": "execute_result",
          "data": {
            "text/plain": [
              "[Text(0.5, 1.0, 'No Fraud vs Fraud')]"
            ]
          },
          "metadata": {},
          "execution_count": 81
        },
        {
          "output_type": "display_data",
          "data": {
            "text/plain": [
              "<Figure size 640x480 with 1 Axes>"
            ],
            "image/png": "[encoded data removed]"
          },
          "metadata": {}
        }
      ]
    },
    {
      "cell_type": "markdown",
      "source": [
        "#Data Exploration"
      ],
      "metadata": {
        "id": "LFp-cbezYEFB"
      }
    },
    {
      "cell_type": "code",
      "source": [
        "df.columns"
      ],
      "metadata": {
        "colab": {
          "base_uri": "https://localhost:8080/"
        },
        "id": "WZZ8nCg-YDT_",
        "outputId": "8b383ad0-7240-49fb-8fad-7880dcb957d5"
      },
      "execution_count": 82,
      "outputs": [
        {
          "output_type": "execute_result",
          "data": {
            "text/plain": [
              "Index(['Month', 'WeekOfMonth', 'DayOfWeek', 'Make', 'AccidentArea',\n",
              "       'DayOfWeekClaimed', 'MonthClaimed', 'WeekOfMonthClaimed', 'Sex',\n",
              "       'MaritalStatus', 'Age', 'Fault', 'PolicyType', 'VehicleCategory',\n",
              "       'VehiclePrice', 'FraudFound_P', 'Deductible', 'DriverRating',\n",
              "       'Days_Policy_Accident', 'Days_Policy_Claim', 'PastNumberOfClaims',\n",
              "       'AgeOfVehicle', 'AgeOfPolicyHolder', 'PoliceReportFiled',\n",
              "       'WitnessPresent', 'AgentType', 'NumberOfSuppliments',\n",
              "       'AddressChange_Claim', 'NumberOfCars', 'Year', 'BasePolicy'],\n",
              "      dtype='object')"
            ]
          },
          "metadata": {},
          "execution_count": 82
        }
      ]
    },
    {
      "cell_type": "code",
      "source": [
        "def Target_Encoder(df,var,target):\n",
        "  encoder = ce.TargetEncoder(cols=[var])\n",
        "  encoder.fit(df[var], df[target])\n",
        "  encoded_month = encoder.transform(df[var])\n",
        "  df[var] = encoded_month\n",
        "  return df\n"
      ],
      "metadata": {
        "id": "oMf5E6BFpap_"
      },
      "execution_count": 91,
      "outputs": []
    },
    {
      "cell_type": "code",
      "source": [
        "#Month\n",
        "df=Target_Encoder(df,'Month','FraudFound_P')\n",
        "df['Month']"
      ],
      "metadata": {
        "colab": {
          "base_uri": "https://localhost:8080/"
        },
        "id": "7YUQ_krAaQCw",
        "outputId": "6c8d30cc-a0de-4204-8303-60352dab2947"
      },
      "execution_count": 92,
      "outputs": [
        {
          "output_type": "execute_result",
          "data": {
            "text/plain": [
              "0        0.048249\n",
              "1        0.061658\n",
              "2        0.053640\n",
              "3        0.060560\n",
              "4        0.061658\n",
              "           ...   \n",
              "15415    0.038301\n",
              "15416    0.038301\n",
              "15417    0.038301\n",
              "15418    0.048249\n",
              "15419    0.048249\n",
              "Name: Month, Length: 15420, dtype: float64"
            ]
          },
          "metadata": {},
          "execution_count": 92
        }
      ]
    },
    {
      "cell_type": "code",
      "source": [
        "#WeekOfMonth\n",
        "df=Target_Encoder(df,'WeekOfMonth','FraudFound_P')\n",
        "df['WeekOfMonth']"
      ],
      "metadata": {
        "colab": {
          "base_uri": "https://localhost:8080/"
        },
        "id": "4swfkKIcopfm",
        "outputId": "2286760f-bb55-4846-abc1-db9bd8f87707"
      },
      "execution_count": 93,
      "outputs": [
        {
          "output_type": "execute_result",
          "data": {
            "text/plain": [
              "0        0.055589\n",
              "1        0.059066\n",
              "2        0.055589\n",
              "3        0.063238\n",
              "4        0.055589\n",
              "           ...   \n",
              "15415    0.056504\n",
              "15416    0.055589\n",
              "15417    0.055589\n",
              "15418    0.062755\n",
              "15419    0.063238\n",
              "Name: WeekOfMonth, Length: 15420, dtype: float64"
            ]
          },
          "metadata": {},
          "execution_count": 93
        }
      ]
    },
    {
      "cell_type": "code",
      "source": [
        "#DayOfWeek\n",
        "df=Target_Encoder(df,'DayOfWeek','FraudFound_P')\n",
        "df['DayOfWeek']"
      ],
      "metadata": {
        "colab": {
          "base_uri": "https://localhost:8080/"
        },
        "id": "6___jYWdo1Ip",
        "outputId": "f29a426c-a462-409a-98e7-70bc900577fe"
      },
      "execution_count": 94,
      "outputs": [
        {
          "output_type": "execute_result",
          "data": {
            "text/plain": [
              "0        0.053265\n",
              "1        0.053265\n",
              "2        0.062986\n",
              "3        0.066599\n",
              "4        0.061162\n",
              "           ...   \n",
              "15415    0.062986\n",
              "15416    0.055223\n",
              "15417    0.055223\n",
              "15418    0.061162\n",
              "15419    0.053265\n",
              "Name: DayOfWeek, Length: 15420, dtype: float64"
            ]
          },
          "metadata": {},
          "execution_count": 94
        }
      ]
    },
    {
      "cell_type": "code",
      "source": [
        "#Make\n",
        "df['Make'].value_counts()\n",
        "values_to_exclude=['Jaguar','Porche','Mecedes','Ferrari','Lexus']\n",
        "df = df[~df['Make'].isin(values_to_exclude)]\n",
        "df=Target_Encoder(df,'Make','FraudFound_P')\n",
        "df['Make']"
      ],
      "metadata": {
        "colab": {
          "base_uri": "https://localhost:8080/"
        },
        "id": "27v0g_S7qOzv",
        "outputId": "b90e3964-cc30-45e1-e244-c4c8af21f574"
      },
      "execution_count": 95,
      "outputs": [
        {
          "output_type": "stream",
          "name": "stderr",
          "text": [
            "<ipython-input-91-79e7ef8a147f>:5: SettingWithCopyWarning: \n",
            "A value is trying to be set on a copy of a slice from a DataFrame.\n",
            "Try using .loc[row_indexer,col_indexer] = value instead\n",
            "\n",
            "See the caveats in the documentation: https://pandas.pydata.org/pandas-docs/stable/user_guide/indexing.html#returning-a-view-versus-a-copy\n",
            "  df[var] = encoded_month\n"
          ]
        },
        {
          "output_type": "execute_result",
          "data": {
            "text/plain": [
              "0        0.063906\n",
              "1        0.063906\n",
              "2        0.063906\n",
              "3        0.059596\n",
              "4        0.063906\n",
              "           ...   \n",
              "15415    0.059596\n",
              "15416    0.055512\n",
              "15417    0.059596\n",
              "15418    0.059596\n",
              "15419    0.059596\n",
              "Name: Make, Length: 15402, dtype: float64"
            ]
          },
          "metadata": {},
          "execution_count": 95
        }
      ]
    },
    {
      "cell_type": "code",
      "source": [
        "#AccidentArea\n",
        "df['AccidentArea'].value_counts()\n",
        "df = pd.get_dummies(df, columns=['AccidentArea'])\n",
        "df=df.drop(columns=['AccidentArea_Rural'])"
      ],
      "metadata": {
        "id": "x7b1bH54rMI6"
      },
      "execution_count": 101,
      "outputs": []
    },
    {
      "cell_type": "code",
      "source": [
        "#DayOfWeekClaimed\n",
        "df=Target_Encoder(df,'DayOfWeekClaimed','FraudFound_P')\n",
        "df['DayOfWeekClaimed']"
      ],
      "metadata": {
        "colab": {
          "base_uri": "https://localhost:8080/"
        },
        "id": "hiyvD9SPxuN0",
        "outputId": "c2e8e5ab-0699-4cf9-db7e-dada95e69033"
      },
      "execution_count": 104,
      "outputs": [
        {
          "output_type": "execute_result",
          "data": {
            "text/plain": [
              "0        0.058719\n",
              "1        0.057303\n",
              "2        0.054176\n",
              "3        0.065731\n",
              "4        0.058719\n",
              "           ...   \n",
              "15415    0.058719\n",
              "15416    0.065731\n",
              "15417    0.065731\n",
              "15418    0.054176\n",
              "15419    0.054176\n",
              "Name: DayOfWeekClaimed, Length: 15402, dtype: float64"
            ]
          },
          "metadata": {},
          "execution_count": 104
        }
      ]
    },
    {
      "cell_type": "code",
      "source": [
        "#MonthClaimed\n",
        "df=Target_Encoder(df,'MonthClaimed','FraudFound_P')\n",
        "df['MonthClaimed']"
      ],
      "metadata": {
        "colab": {
          "base_uri": "https://localhost:8080/"
        },
        "id": "kl4BZISMzFDN",
        "outputId": "93db6a49-e61c-4309-e341-eb87f3434960"
      },
      "execution_count": 107,
      "outputs": [
        {
          "output_type": "execute_result",
          "data": {
            "text/plain": [
              "0        0.063756\n",
              "1        0.063756\n",
              "2        0.035853\n",
              "3        0.045752\n",
              "4        0.060653\n",
              "           ...   \n",
              "15415    0.035853\n",
              "15416    0.042795\n",
              "15417    0.042795\n",
              "15418    0.042795\n",
              "15419    0.042795\n",
              "Name: MonthClaimed, Length: 15402, dtype: float64"
            ]
          },
          "metadata": {},
          "execution_count": 107
        }
      ]
    },
    {
      "cell_type": "code",
      "source": [
        "#WeekOfMonthClaimed\n",
        "df=Target_Encoder(df,'WeekOfMonthClaimed','FraudFound_P')\n",
        "df['WeekOfMonthClaimed']"
      ],
      "metadata": {
        "colab": {
          "base_uri": "https://localhost:8080/"
        },
        "id": "54kd3I_EzZoY",
        "outputId": "463b8dac-f9af-4eb9-a0fd-f5b46b08a3ac"
      },
      "execution_count": 109,
      "outputs": [
        {
          "output_type": "execute_result",
          "data": {
            "text/plain": [
              "0        0.063805\n",
              "1        0.060951\n",
              "2        0.055735\n",
              "3        0.063805\n",
              "4        0.055735\n",
              "           ...   \n",
              "15415    0.052674\n",
              "15416    0.063805\n",
              "15417    0.063805\n",
              "15418    0.055735\n",
              "15419    0.061784\n",
              "Name: WeekOfMonthClaimed, Length: 15402, dtype: float64"
            ]
          },
          "metadata": {},
          "execution_count": 109
        }
      ]
    },
    {
      "cell_type": "code",
      "source": [
        "#Sex\n",
        "sex_mapping = {'Male': 1, 'Female': 0}\n",
        "df['Sex'] = df['Sex'].map(sex_mapping)\n",
        "df['Sex']"
      ],
      "metadata": {
        "colab": {
          "base_uri": "https://localhost:8080/"
        },
        "id": "hvR6XpJhzchF",
        "outputId": "ca30b564-20d8-4018-9c66-22e87ad5257c"
      },
      "execution_count": 112,
      "outputs": [
        {
          "output_type": "execute_result",
          "data": {
            "text/plain": [
              "0        0\n",
              "1        1\n",
              "2        1\n",
              "3        1\n",
              "4        0\n",
              "        ..\n",
              "15415    1\n",
              "15416    1\n",
              "15417    1\n",
              "15418    0\n",
              "15419    1\n",
              "Name: Sex, Length: 15402, dtype: int64"
            ]
          },
          "metadata": {},
          "execution_count": 112
        }
      ]
    },
    {
      "cell_type": "code",
      "source": [
        "#MaritalStatus\n",
        "MaritalStatus_mapping = {'Married': 1, 'Single': 0,'Divorced':2,'Widow':2}\n",
        "df['MaritalStatus'] = df['MaritalStatus'].map(MaritalStatus_mapping)\n",
        "df=Target_Encoder(df,'MaritalStatus','FraudFound_P')\n",
        "df['MaritalStatus']\n"
      ],
      "metadata": {
        "colab": {
          "base_uri": "https://localhost:8080/"
        },
        "id": "9CBpSqGJz729",
        "outputId": "36a044dc-6a72-4d61-d678-8f06e14b47ac"
      },
      "execution_count": 118,
      "outputs": [
        {
          "output_type": "execute_result",
          "data": {
            "text/plain": [
              "0        0.059402\n",
              "1        0.059402\n",
              "2        0.060126\n",
              "3        0.060126\n",
              "4        0.059402\n",
              "           ...   \n",
              "15415    0.060126\n",
              "15416    0.060126\n",
              "15417    0.059402\n",
              "15418    0.060126\n",
              "15419    0.059402\n",
              "Name: MaritalStatus, Length: 15402, dtype: float64"
            ]
          },
          "metadata": {},
          "execution_count": 118
        }
      ]
    },
    {
      "cell_type": "code",
      "source": [
        "#Age\n",
        "scaler = MinMaxScaler()\n",
        "df['Age'] = scaler.fit_transform(df[['Age']])\n",
        "df['Age']"
      ],
      "metadata": {
        "colab": {
          "base_uri": "https://localhost:8080/"
        },
        "id": "6YgkSQOO2Ino",
        "outputId": "d59a0606-5b6c-4856-f4f0-17ec40c8d5e3"
      },
      "execution_count": 121,
      "outputs": [
        {
          "output_type": "execute_result",
          "data": {
            "text/plain": [
              "0        0.2625\n",
              "1        0.4250\n",
              "2        0.5875\n",
              "3        0.8125\n",
              "4        0.3375\n",
              "          ...  \n",
              "15415    0.4375\n",
              "15416    0.3750\n",
              "15417    0.3000\n",
              "15418    0.4250\n",
              "15419    0.2625\n",
              "Name: Age, Length: 15402, dtype: float64"
            ]
          },
          "metadata": {},
          "execution_count": 121
        }
      ]
    },
    {
      "cell_type": "code",
      "source": [
        "#Fault\n",
        "Fault_mapping = {'Policy Holder': 1, 'Third Party': 0}\n",
        "df['Fault'] = df['Fault'].map(Fault_mapping)\n",
        "df['Fault']"
      ],
      "metadata": {
        "colab": {
          "base_uri": "https://localhost:8080/"
        },
        "id": "Mz1a4bPR32vn",
        "outputId": "f921f80e-3763-4001-821b-81b6c8c18b26"
      },
      "execution_count": 124,
      "outputs": [
        {
          "output_type": "execute_result",
          "data": {
            "text/plain": [
              "0        1\n",
              "1        1\n",
              "2        1\n",
              "3        0\n",
              "4        0\n",
              "        ..\n",
              "15415    1\n",
              "15416    1\n",
              "15417    1\n",
              "15418    0\n",
              "15419    1\n",
              "Name: Fault, Length: 15402, dtype: int64"
            ]
          },
          "metadata": {},
          "execution_count": 124
        }
      ]
    },
    {
      "cell_type": "code",
      "source": [
        "#PolicyType\n",
        "df=Target_Encoder(df,'PolicyType','FraudFound_P')\n",
        "df['PolicyType']"
      ],
      "metadata": {
        "colab": {
          "base_uri": "https://localhost:8080/"
        },
        "id": "ISeiVhaU4LU7",
        "outputId": "b09cdde7-95e9-41b8-9b8f-4d9a48558cf1"
      },
      "execution_count": 127,
      "outputs": [
        {
          "output_type": "execute_result",
          "data": {
            "text/plain": [
              "0        0.052074\n",
              "1        0.137931\n",
              "2        0.137931\n",
              "3        0.007226\n",
              "4        0.137931\n",
              "           ...   \n",
              "15415    0.068817\n",
              "15416    0.007226\n",
              "15417    0.068817\n",
              "15418    0.100416\n",
              "15419    0.068817\n",
              "Name: PolicyType, Length: 15402, dtype: float64"
            ]
          },
          "metadata": {},
          "execution_count": 127
        }
      ]
    },
    {
      "cell_type": "code",
      "source": [
        "#VehicleCategory\n",
        "df=Target_Encoder(df,'VehicleCategory','FraudFound_P')\n",
        "df['VehicleCategory']"
      ],
      "metadata": {
        "colab": {
          "base_uri": "https://localhost:8080/"
        },
        "id": "7K1MfW9g4gfX",
        "outputId": "8122e660-8343-4bef-af1f-0325e70b30d0"
      },
      "execution_count": 131,
      "outputs": [
        {
          "output_type": "execute_result",
          "data": {
            "text/plain": [
              "0        0.015692\n",
              "1        0.015692\n",
              "2        0.015692\n",
              "3        0.015692\n",
              "4        0.015692\n",
              "           ...   \n",
              "15415    0.082169\n",
              "15416    0.015692\n",
              "15417    0.082169\n",
              "15418    0.082169\n",
              "15419    0.082169\n",
              "Name: VehicleCategory, Length: 15402, dtype: float64"
            ]
          },
          "metadata": {},
          "execution_count": 131
        }
      ]
    },
    {
      "cell_type": "code",
      "source": [
        "#VehiclePrice\n",
        "df=Target_Encoder(df,'VehiclePrice','FraudFound_P')\n",
        "df['VehiclePrice']"
      ],
      "metadata": {
        "colab": {
          "base_uri": "https://localhost:8080/"
        },
        "id": "bSzI9vhf4_CV",
        "outputId": "4785a74b-793d-4f7b-f101-fe97f4602706"
      },
      "execution_count": 134,
      "outputs": [
        {
          "output_type": "execute_result",
          "data": {
            "text/plain": [
              "0        0.087118\n",
              "1        0.087118\n",
              "2        0.087118\n",
              "3        0.052110\n",
              "4        0.087118\n",
              "           ...   \n",
              "15415    0.052110\n",
              "15416    0.049603\n",
              "15417    0.052110\n",
              "15418    0.052110\n",
              "15419    0.052110\n",
              "Name: VehiclePrice, Length: 15402, dtype: float64"
            ]
          },
          "metadata": {},
          "execution_count": 134
        }
      ]
    },
    {
      "cell_type": "code",
      "source": [
        "#Deductible\n",
        "df=Target_Encoder(df,'Deductible','FraudFound_P')\n",
        "df['Deductible']"
      ],
      "metadata": {
        "colab": {
          "base_uri": "https://localhost:8080/"
        },
        "id": "UI_tXcoN6AYq",
        "outputId": "0682fc75-bb71-479a-f2b9-ee326f8a76af"
      },
      "execution_count": 138,
      "outputs": [
        {
          "output_type": "execute_result",
          "data": {
            "text/plain": [
              "0        0.103875\n",
              "1        0.057688\n",
              "2        0.057688\n",
              "3        0.057688\n",
              "4        0.057688\n",
              "           ...   \n",
              "15415    0.057688\n",
              "15416    0.057688\n",
              "15417    0.057688\n",
              "15418    0.057688\n",
              "15419    0.057688\n",
              "Name: Deductible, Length: 15402, dtype: float64"
            ]
          },
          "metadata": {},
          "execution_count": 138
        }
      ]
    },
    {
      "cell_type": "code",
      "source": [
        "#DriverRating\n",
        "df=Target_Encoder(df,'DriverRating','FraudFound_P')\n",
        "df['DriverRating']"
      ],
      "metadata": {
        "colab": {
          "base_uri": "https://localhost:8080/"
        },
        "id": "QlUxEOZd6cc7",
        "outputId": "752b6694-16c6-4f64-ace4-bd841a294db9"
      },
      "execution_count": 141,
      "outputs": [
        {
          "output_type": "execute_result",
          "data": {
            "text/plain": [
              "0        0.058928\n",
              "1        0.062054\n",
              "2        0.062097\n",
              "3        0.056360\n",
              "4        0.058928\n",
              "           ...   \n",
              "15415    0.062054\n",
              "15416    0.062097\n",
              "15417    0.062054\n",
              "15418    0.062054\n",
              "15419    0.062054\n",
              "Name: DriverRating, Length: 15402, dtype: float64"
            ]
          },
          "metadata": {},
          "execution_count": 141
        }
      ]
    },
    {
      "cell_type": "code",
      "source": [
        "#Days_Policy_Accident\n",
        "df=Target_Encoder(df,'Days_Policy_Accident','FraudFound_P')\n",
        "df['Days_Policy_Accident']"
      ],
      "metadata": {
        "colab": {
          "base_uri": "https://localhost:8080/"
        },
        "id": "hcWs7T-_728j",
        "outputId": "dfbab7ac-9f59-45b1-8641-d80050265125"
      },
      "execution_count": 145,
      "outputs": [
        {
          "output_type": "execute_result",
          "data": {
            "text/plain": [
              "0        0.05936\n",
              "1        0.05936\n",
              "2        0.05936\n",
              "3        0.05936\n",
              "4        0.05936\n",
              "          ...   \n",
              "15415    0.05936\n",
              "15416    0.05936\n",
              "15417    0.05936\n",
              "15418    0.05936\n",
              "15419    0.05936\n",
              "Name: Days_Policy_Accident, Length: 15402, dtype: float64"
            ]
          },
          "metadata": {},
          "execution_count": 145
        }
      ]
    },
    {
      "cell_type": "code",
      "source": [
        "#Days_Policy_Claim\n",
        "df=df.drop(columns=['Days_Policy_Claim'])"
      ],
      "metadata": {
        "id": "U6PVXIUA9Ddd"
      },
      "execution_count": 150,
      "outputs": []
    },
    {
      "cell_type": "code",
      "source": [
        "#PastNumberOfClaims\n",
        "df=Target_Encoder(df,'PastNumberOfClaims','FraudFound_P')\n",
        "df['PastNumberOfClaims']"
      ],
      "metadata": {
        "colab": {
          "base_uri": "https://localhost:8080/"
        },
        "id": "6Lm0t36X9PVa",
        "outputId": "6fddbc25-9d38-4b75-853e-3dc01a647969"
      },
      "execution_count": 152,
      "outputs": [
        {
          "output_type": "execute_result",
          "data": {
            "text/plain": [
              "0        0.077808\n",
              "1        0.077808\n",
              "2        0.062220\n",
              "3        0.062220\n",
              "4        0.077808\n",
              "           ...   \n",
              "15415    0.053630\n",
              "15416    0.033865\n",
              "15417    0.033865\n",
              "15418    0.077808\n",
              "15419    0.077808\n",
              "Name: PastNumberOfClaims, Length: 15402, dtype: float64"
            ]
          },
          "metadata": {},
          "execution_count": 152
        }
      ]
    },
    {
      "cell_type": "code",
      "source": [
        "#AgeOfVehicle\n",
        "df=Target_Encoder(df,'AgeOfVehicle','FraudFound_P')\n",
        "df['AgeOfVehicle']"
      ],
      "metadata": {
        "colab": {
          "base_uri": "https://localhost:8080/"
        },
        "id": "zX4w2v8N9s3q",
        "outputId": "7a1851fd-a91d-4860-ba69-3effe45d8370"
      },
      "execution_count": 156,
      "outputs": [
        {
          "output_type": "execute_result",
          "data": {
            "text/plain": [
              "0        0.086093\n",
              "1        0.066144\n",
              "2        0.055872\n",
              "3        0.051837\n",
              "4        0.070059\n",
              "           ...   \n",
              "15415    0.066144\n",
              "15416    0.066144\n",
              "15417    0.070059\n",
              "15418    0.041189\n",
              "15419    0.070059\n",
              "Name: AgeOfVehicle, Length: 15402, dtype: float64"
            ]
          },
          "metadata": {},
          "execution_count": 156
        }
      ]
    },
    {
      "cell_type": "code",
      "source": [
        "#AgeOfPolicyHolder\n",
        "df=Target_Encoder(df,'AgeOfPolicyHolder','FraudFound_P')\n",
        "df['AgeOfPolicyHolder']"
      ],
      "metadata": {
        "colab": {
          "base_uri": "https://localhost:8080/"
        },
        "id": "d8be8T3r-yaP",
        "outputId": "3e47f976-326c-423f-cc09-7d84da0c5d1a"
      },
      "execution_count": 159,
      "outputs": [
        {
          "output_type": "execute_result",
          "data": {
            "text/plain": [
              "0        0.053922\n",
              "1        0.064401\n",
              "2        0.050955\n",
              "3        0.049748\n",
              "4        0.064401\n",
              "           ...   \n",
              "15415    0.064401\n",
              "15416    0.064401\n",
              "15417    0.053922\n",
              "15418    0.064401\n",
              "15419    0.053922\n",
              "Name: AgeOfPolicyHolder, Length: 15402, dtype: float64"
            ]
          },
          "metadata": {},
          "execution_count": 159
        }
      ]
    },
    {
      "cell_type": "code",
      "source": [
        "#PoliceReportFiled\n",
        "PoliceReportFiled = {'Yes': 1, 'No': 0}\n",
        "df['PoliceReportFiled'] = df['PoliceReportFiled'].map(PoliceReportFiled)\n",
        "df['PoliceReportFiled']"
      ],
      "metadata": {
        "colab": {
          "base_uri": "https://localhost:8080/"
        },
        "id": "mUC1ay1r_NDt",
        "outputId": "f41501d5-3206-456c-dd68-9b20910db8ac"
      },
      "execution_count": 162,
      "outputs": [
        {
          "output_type": "execute_result",
          "data": {
            "text/plain": [
              "0        0\n",
              "1        1\n",
              "2        0\n",
              "3        1\n",
              "4        0\n",
              "        ..\n",
              "15415    0\n",
              "15416    0\n",
              "15417    0\n",
              "15418    0\n",
              "15419    0\n",
              "Name: PoliceReportFiled, Length: 15402, dtype: int64"
            ]
          },
          "metadata": {},
          "execution_count": 162
        }
      ]
    },
    {
      "cell_type": "code",
      "source": [
        "#WitnessPresent\n",
        "WitnessPresent = {'Yes': 1, 'No': 0}\n",
        "df['WitnessPresent'] = df['WitnessPresent'].map(WitnessPresent)\n",
        "df['WitnessPresent']"
      ],
      "metadata": {
        "colab": {
          "base_uri": "https://localhost:8080/"
        },
        "id": "WZmShHi6AHCF",
        "outputId": "b844fc6a-4cf6-47a6-c54b-3c2d1a46dfb2"
      },
      "execution_count": 165,
      "outputs": [
        {
          "output_type": "execute_result",
          "data": {
            "text/plain": [
              "0        0\n",
              "1        0\n",
              "2        0\n",
              "3        0\n",
              "4        0\n",
              "        ..\n",
              "15415    0\n",
              "15416    0\n",
              "15417    0\n",
              "15418    0\n",
              "15419    0\n",
              "Name: WitnessPresent, Length: 15402, dtype: int64"
            ]
          },
          "metadata": {},
          "execution_count": 165
        }
      ]
    },
    {
      "cell_type": "code",
      "source": [
        "#AgentType\n",
        "AgentType = {'External': 1, 'Internal': 0}\n",
        "df['AgentType'] = df['AgentType'].map(AgentType)\n",
        "df['AgentType']"
      ],
      "metadata": {
        "colab": {
          "base_uri": "https://localhost:8080/"
        },
        "id": "xKr4QuWuAjrt",
        "outputId": "fb9ec4b0-b750-4fb3-a95c-4a38fca0705c"
      },
      "execution_count": 169,
      "outputs": [
        {
          "output_type": "execute_result",
          "data": {
            "text/plain": [
              "0        1\n",
              "1        1\n",
              "2        1\n",
              "3        1\n",
              "4        1\n",
              "        ..\n",
              "15415    1\n",
              "15416    1\n",
              "15417    1\n",
              "15418    1\n",
              "15419    1\n",
              "Name: AgentType, Length: 15402, dtype: int64"
            ]
          },
          "metadata": {},
          "execution_count": 169
        }
      ]
    },
    {
      "cell_type": "code",
      "source": [
        "#NumberOfSuppliments\n",
        "df=Target_Encoder(df,'NumberOfSuppliments','FraudFound_P')\n",
        "df['NumberOfSuppliments']"
      ],
      "metadata": {
        "colab": {
          "base_uri": "https://localhost:8080/"
        },
        "id": "ZzizUV_xA343",
        "outputId": "b3f43543-1e31-4632-874c-a8d616200c81"
      },
      "execution_count": 173,
      "outputs": [
        {
          "output_type": "execute_result",
          "data": {
            "text/plain": [
              "0        0.066922\n",
              "1        0.066922\n",
              "2        0.066922\n",
              "3        0.050427\n",
              "4        0.066922\n",
              "           ...   \n",
              "15415    0.066922\n",
              "15416    0.050427\n",
              "15417    0.063984\n",
              "15418    0.050427\n",
              "15419    0.063984\n",
              "Name: NumberOfSuppliments, Length: 15402, dtype: float64"
            ]
          },
          "metadata": {},
          "execution_count": 173
        }
      ]
    },
    {
      "cell_type": "code",
      "source": [
        "#AddressChange_Claim\n",
        "df=Target_Encoder(df,'AddressChange_Claim','FraudFound_P')\n",
        "df['AddressChange_Claim']"
      ],
      "metadata": {
        "colab": {
          "base_uri": "https://localhost:8080/"
        },
        "id": "uKdcv3nSBa1w",
        "outputId": "da050ec3-1c3b-410d-a6e0-7483f34285c1"
      },
      "execution_count": 176,
      "outputs": [
        {
          "output_type": "execute_result",
          "data": {
            "text/plain": [
              "0        0.064706\n",
              "1        0.057590\n",
              "2        0.057590\n",
              "3        0.057590\n",
              "4        0.057590\n",
              "           ...   \n",
              "15415    0.057590\n",
              "15416    0.057590\n",
              "15417    0.057590\n",
              "15418    0.057590\n",
              "15419    0.057590\n",
              "Name: AddressChange_Claim, Length: 15402, dtype: float64"
            ]
          },
          "metadata": {},
          "execution_count": 176
        }
      ]
    },
    {
      "cell_type": "code",
      "source": [
        "#NumberOfCars\n",
        "df=Target_Encoder(df,'NumberOfCars','FraudFound_P')\n",
        "df['NumberOfCars']"
      ],
      "metadata": {
        "colab": {
          "base_uri": "https://localhost:8080/"
        },
        "id": "lLFJh6QrB5vo",
        "outputId": "54b24111-9f5f-4da2-ace0-847f564e2ebf"
      },
      "execution_count": 180,
      "outputs": [
        {
          "output_type": "execute_result",
          "data": {
            "text/plain": [
              "0        0.078167\n",
              "1        0.059371\n",
              "2        0.059371\n",
              "3        0.059371\n",
              "4        0.059371\n",
              "           ...   \n",
              "15415    0.059371\n",
              "15416    0.078167\n",
              "15417    0.059371\n",
              "15418    0.059371\n",
              "15419    0.059371\n",
              "Name: NumberOfCars, Length: 15402, dtype: float64"
            ]
          },
          "metadata": {},
          "execution_count": 180
        }
      ]
    },
    {
      "cell_type": "code",
      "source": [
        "#Year\n",
        "df=df.drop(columns=['Year'])"
      ],
      "metadata": {
        "id": "bU2dWZeGCRHU"
      },
      "execution_count": 183,
      "outputs": []
    },
    {
      "cell_type": "code",
      "source": [
        "#BasePolicy\n",
        "df=Target_Encoder(df,'BasePolicy','FraudFound_P')\n",
        "df['BasePolicy']"
      ],
      "metadata": {
        "colab": {
          "base_uri": "https://localhost:8080/"
        },
        "id": "yY-44lAWCs2V",
        "outputId": "a7e55545-ae96-4f43-8af5-265c65c1a4d5"
      },
      "execution_count": 186,
      "outputs": [
        {
          "output_type": "execute_result",
          "data": {
            "text/plain": [
              "0        0.007194\n",
              "1        0.073060\n",
              "2        0.073060\n",
              "3        0.007194\n",
              "4        0.073060\n",
              "           ...   \n",
              "15415    0.073060\n",
              "15416    0.007194\n",
              "15417    0.073060\n",
              "15418    0.101485\n",
              "15419    0.073060\n",
              "Name: BasePolicy, Length: 15402, dtype: float64"
            ]
          },
          "metadata": {},
          "execution_count": 186
        }
      ]
    },
    {
      "cell_type": "markdown",
      "source": [
        "#Over Sampling and Under Sampling"
      ],
      "metadata": {
        "id": "Ncp9QFG8Sz37"
      }
    },
    {
      "cell_type": "code",
      "source": [
        "X=df.drop(columns=['FraudFound_P'])\n",
        "y=df.FraudFound_P\n",
        "X_train, X_test, y_train, y_test = train_test_split(X, y, test_size=0.2, random_state=42)\n",
        "\n",
        "oversampler = RandomOverSampler(random_state=72)\n",
        "X_train_oversampled, y_train_oversampled = oversampler.fit_resample(X_train, y_train)\n",
        "X_test_oversampled, y_test_oversampled = oversampler.fit_resample(X_test, y_test)\n",
        "\n",
        "\n",
        "undersampler = RandomUnderSampler(random_state=72)\n",
        "X_train_undersampled, y_train_undersampled = undersampler.fit_resample(X_train, y_train)\n",
        "X_test_undersampled, y_test_undersampled = undersampler.fit_resample(X_test, y_test)\n",
        "\n",
        "print(\"\\n before sampling\")\n",
        "\n",
        "print(\"X_train: \",len(X_train))\n",
        "print(\"X_test: \",len(X_test))\n",
        "\n",
        "print(\"\\n over sampling\")\n",
        "\n",
        "print(\"X_train_oversampled: \",len(X_train_oversampled))\n",
        "print(\"count: \",y_train_oversampled.value_counts())\n",
        "\n",
        "print(\"\\n under sampling\")\n",
        "\n",
        "print(\"X_train_undersampled: \",len(X_train_undersampled))\n",
        "print(\"count: \",y_train_undersampled.value_counts())\n",
        "\n",
        "\n",
        "\n"
      ],
      "metadata": {
        "colab": {
          "base_uri": "https://localhost:8080/"
        },
        "id": "Z7Fpe2yqS5dj",
        "outputId": "87f80946-f3db-471f-b440-6c921c1cb856"
      },
      "execution_count": 191,
      "outputs": [
        {
          "output_type": "stream",
          "name": "stdout",
          "text": [
            "\n",
            " before sampling\n",
            "X_train:  12321\n",
            "X_test:  3081\n",
            "\n",
            " over sampling\n",
            "X_train_oversampled:  23118\n",
            "count:  0    11559\n",
            "1    11559\n",
            "Name: FraudFound_P, dtype: int64\n",
            "\n",
            " under sampling\n",
            "X_train_undersampled:  1524\n",
            "count:  0    762\n",
            "1    762\n",
            "Name: FraudFound_P, dtype: int64\n"
          ]
        }
      ]
    },
    {
      "cell_type": "markdown",
      "source": [
        "#Classification"
      ],
      "metadata": {
        "id": "oJvAsNCQElGE"
      }
    },
    {
      "cell_type": "code",
      "source": [
        "results_dict={}"
      ],
      "metadata": {
        "id": "BwbKt3mRGuoi"
      },
      "execution_count": 195,
      "outputs": []
    },
    {
      "cell_type": "markdown",
      "source": [
        "###logistic regression"
      ],
      "metadata": {
        "id": "-VQ6I8g_Id6o"
      }
    },
    {
      "cell_type": "code",
      "source": [
        "def logestic_reg(X_train,X_test, y_train,y_test):\n",
        "  model = LogisticRegression()\n",
        "  model.fit(X_train, y_train)\n",
        "  prediction = model.predict(X_test)\n",
        "  score=model.score(X_test,y_test)\n",
        "  print(\"score: \",score)\n",
        "  return score"
      ],
      "metadata": {
        "id": "CfWjPx3FEkxN"
      },
      "execution_count": 193,
      "outputs": []
    },
    {
      "cell_type": "code",
      "source": [
        "#oversample\n",
        "logestic_reg_score=logestic_reg(X_train_oversampled,X_test_oversampled,y_train_oversampled,y_test_oversampled)\n",
        "results_dict['logestic_reg_oversample']=logestic_reg_score\n",
        "\n",
        "#undersample\n",
        "logestic_reg_score=logestic_reg(X_train_undersampled,X_test_undersampled,y_train_undersampled,y_test_undersampled)\n",
        "results_dict['logestic_reg_undersampled']=logestic_reg_score"
      ],
      "metadata": {
        "colab": {
          "base_uri": "https://localhost:8080/"
        },
        "id": "UzEil-3DEfWO",
        "outputId": "11a340ee-c784-4523-92a1-d661d2a074cd"
      },
      "execution_count": 197,
      "outputs": [
        {
          "output_type": "stream",
          "name": "stderr",
          "text": [
            "/usr/local/lib/python3.10/dist-packages/sklearn/linear_model/_logistic.py:458: ConvergenceWarning: lbfgs failed to converge (status=1):\n",
            "STOP: TOTAL NO. of ITERATIONS REACHED LIMIT.\n",
            "\n",
            "Increase the number of iterations (max_iter) or scale the data as shown in:\n",
            "    https://scikit-learn.org/stable/modules/preprocessing.html\n",
            "Please also refer to the documentation for alternative solver options:\n",
            "    https://scikit-learn.org/stable/modules/linear_model.html#logistic-regression\n",
            "  n_iter_i = _check_optimize_result(\n"
          ]
        },
        {
          "output_type": "stream",
          "name": "stdout",
          "text": [
            "score:  0.749914412872304\n",
            "score:  0.7875\n"
          ]
        }
      ]
    },
    {
      "cell_type": "markdown",
      "source": [
        "###LDA"
      ],
      "metadata": {
        "id": "d55xWopfIlgO"
      }
    },
    {
      "cell_type": "code",
      "source": [
        "def LDA(X_train,X_test, y_train,y_test):\n",
        "  lda_param_grid = {'solver': ['svd', 'lsqr', 'eigen']}\n",
        "  lda = GridSearchCV(LinearDiscriminantAnalysis(), lda_param_grid)\n",
        "  lda.fit(X_train, y_train)\n",
        "  lda_predictions = lda.predict(X_test)\n",
        "  score=lda.score(X_test,y_test)\n",
        "  print(classification_report(y_test, lda_predictions))\n",
        "  return score"
      ],
      "metadata": {
        "id": "8PgFMjULI--7"
      },
      "execution_count": 201,
      "outputs": []
    },
    {
      "cell_type": "code",
      "source": [
        "#oversample\n",
        "LDA_score=LDA(X_train_oversampled,X_test_oversampled,y_train_oversampled,y_test_oversampled)\n",
        "results_dict['LDA_oversample']=LDA_score\n",
        "\n",
        "#undersample\n",
        "LDA_score=LDA(X_train_undersampled,X_test_undersampled,y_train_undersampled,y_test_undersampled)\n",
        "results_dict['LDA_undersampled']=LDA_score"
      ],
      "metadata": {
        "colab": {
          "base_uri": "https://localhost:8080/"
        },
        "id": "GR2OWiPdMrGZ",
        "outputId": "56b39489-f0b9-46ff-9bdf-52dde2cbb20a"
      },
      "execution_count": 209,
      "outputs": [
        {
          "output_type": "stream",
          "name": "stdout",
          "text": [
            "              precision    recall  f1-score   support\n",
            "\n",
            "           0       0.82      0.62      0.71      2921\n",
            "           1       0.69      0.87      0.77      2921\n",
            "\n",
            "    accuracy                           0.74      5842\n",
            "   macro avg       0.76      0.74      0.74      5842\n",
            "weighted avg       0.76      0.74      0.74      5842\n",
            "\n",
            "              precision    recall  f1-score   support\n",
            "\n",
            "           0       0.84      0.71      0.77       160\n",
            "           1       0.75      0.87      0.80       160\n",
            "\n",
            "    accuracy                           0.79       320\n",
            "   macro avg       0.80      0.79      0.79       320\n",
            "weighted avg       0.80      0.79      0.79       320\n",
            "\n"
          ]
        }
      ]
    },
    {
      "cell_type": "markdown",
      "source": [
        "###QDA"
      ],
      "metadata": {
        "id": "sDC_vj2LJxyZ"
      }
    },
    {
      "cell_type": "code",
      "source": [
        "def QDA(X_train,X_test, y_train,y_test):\n",
        "  qda_param_grid = {'reg_param': [0.0, 0.1, 0.2, 0.3]}\n",
        "  qda = GridSearchCV(QuadraticDiscriminantAnalysis(), qda_param_grid)\n",
        "  qda.fit(X_train, y_train)\n",
        "  qda_predictions = qda.predict(X_test)\n",
        "  score=qda.score(X_test,y_test)\n",
        "  print(classification_report(y_test, qda_predictions))\n",
        "  return score"
      ],
      "metadata": {
        "id": "n4iSde6SJ0P4"
      },
      "execution_count": 202,
      "outputs": []
    },
    {
      "cell_type": "code",
      "source": [
        "#oversample\n",
        "QDA_score=QDA(X_train_oversampled,X_test_oversampled,y_train_oversampled,y_test_oversampled)\n",
        "results_dict['QDA_oversample']=QDA_score\n",
        "\n",
        "#undersample\n",
        "QDA_score=QDA(X_train_undersampled,X_test_undersampled,y_train_undersampled,y_test_undersampled)\n",
        "results_dict['QDA_undersampled']=QDA_score"
      ],
      "metadata": {
        "colab": {
          "base_uri": "https://localhost:8080/"
        },
        "id": "V6FmJVqSQX1B",
        "outputId": "f25bcffe-62ef-464c-b441-e27cb22b4309"
      },
      "execution_count": 206,
      "outputs": [
        {
          "output_type": "stream",
          "name": "stdout",
          "text": [
            "              precision    recall  f1-score   support\n",
            "\n",
            "           0       0.77      0.69      0.73      2921\n",
            "           1       0.72      0.80      0.76      2921\n",
            "\n",
            "    accuracy                           0.75      5842\n",
            "   macro avg       0.75      0.75      0.74      5842\n",
            "weighted avg       0.75      0.75      0.74      5842\n",
            "\n",
            "              precision    recall  f1-score   support\n",
            "\n",
            "           0       0.64      0.85      0.73       160\n",
            "           1       0.77      0.51      0.62       160\n",
            "\n",
            "    accuracy                           0.68       320\n",
            "   macro avg       0.70      0.68      0.67       320\n",
            "weighted avg       0.70      0.68      0.67       320\n",
            "\n"
          ]
        }
      ]
    },
    {
      "cell_type": "markdown",
      "source": [
        "###Naive Bayes"
      ],
      "metadata": {
        "id": "PSR8QvriRcb0"
      }
    },
    {
      "cell_type": "code",
      "source": [
        "def naive_bayes(X_train,X_test, y_train,y_test):\n",
        "  gnb = GaussianNB()\n",
        "  param_grid = {'priors': [None, [0.2, 0.8], [0.5, 0.5], [0.8, 0.2]]}\n",
        "  grid_search = GridSearchCV(gnb, param_grid, cv=5)\n",
        "  grid_search.fit(X_train, y_train)\n",
        "  best_model = grid_search.best_estimator_\n",
        "  predictions = best_model.predict(X_test)\n",
        "  score=best_model.score(X_test,y_test)\n",
        "  print(classification_report(y_test, predictions))\n",
        "  return score"
      ],
      "metadata": {
        "id": "a9e4I7JMRfc7"
      },
      "execution_count": 213,
      "outputs": []
    },
    {
      "cell_type": "code",
      "source": [
        "#oversample\n",
        "naive_bayes_score=naive_bayes(X_train_oversampled,X_test_oversampled,y_train_oversampled,y_test_oversampled)\n",
        "results_dict['naive_bayes_oversample']=naive_bayes_score\n",
        "\n",
        "#undersample\n",
        "naive_bayes_score=naive_bayes(X_train_undersampled,X_test_undersampled,y_train_undersampled,y_test_undersampled)\n",
        "results_dict['naive_bayes_undersampled']=naive_bayes_score"
      ],
      "metadata": {
        "colab": {
          "base_uri": "https://localhost:8080/"
        },
        "id": "ufOM5GnlS7Ak",
        "outputId": "fa811bdd-86e8-4be7-8310-4bede21c5b4e"
      },
      "execution_count": 214,
      "outputs": [
        {
          "output_type": "stream",
          "name": "stdout",
          "text": [
            "              precision    recall  f1-score   support\n",
            "\n",
            "           0       0.83      0.59      0.69      2921\n",
            "           1       0.68      0.88      0.77      2921\n",
            "\n",
            "    accuracy                           0.73      5842\n",
            "   macro avg       0.75      0.73      0.73      5842\n",
            "weighted avg       0.75      0.73      0.73      5842\n",
            "\n",
            "              precision    recall  f1-score   support\n",
            "\n",
            "           0       0.88      0.64      0.74       160\n",
            "           1       0.72      0.91      0.80       160\n",
            "\n",
            "    accuracy                           0.78       320\n",
            "   macro avg       0.80      0.78      0.77       320\n",
            "weighted avg       0.80      0.78      0.77       320\n",
            "\n"
          ]
        }
      ]
    },
    {
      "cell_type": "markdown",
      "source": [
        "###KNN"
      ],
      "metadata": {
        "id": "PRh8xX3iUClq"
      }
    },
    {
      "cell_type": "code",
      "source": [
        "def KNN(X_train,X_test, y_train,y_test):\n",
        "  knn = KNeighborsClassifier()\n",
        "  param_grid = {'n_neighbors': [3, 5, 7],'weights': ['uniform', 'distance']}\n",
        "  grid_search = GridSearchCV(knn, param_grid, cv=5)\n",
        "  grid_search.fit(X_train, y_train)\n",
        "  best_model = grid_search.best_estimator_\n",
        "  predictions = best_model.predict(X_test)\n",
        "  score=best_model.score(X_test,y_test)\n",
        "  print(classification_report(y_test, predictions))\n",
        "  return score"
      ],
      "metadata": {
        "id": "2L7_JOungKNY"
      },
      "execution_count": 253,
      "outputs": []
    },
    {
      "cell_type": "code",
      "source": [
        "#oversample\n",
        "KNN_score=KNN(X_train_oversampled,X_test_oversampled,y_train_oversampled,y_test_oversampled)\n",
        "results_dict['KNN_oversample']=KNN_score\n",
        "\n",
        "#undersample\n",
        "KNN_score=KNN(X_train_undersampled,X_test_undersampled,y_train_undersampled,y_test_undersampled)\n",
        "results_dict['KNN_undersampled']=KNN_score"
      ],
      "metadata": {
        "colab": {
          "base_uri": "https://localhost:8080/"
        },
        "id": "1FlCB3iagn4c",
        "outputId": "07bce246-f014-4903-ff25-49e0a462a6fc"
      },
      "execution_count": 254,
      "outputs": [
        {
          "output_type": "stream",
          "name": "stdout",
          "text": [
            "              precision    recall  f1-score   support\n",
            "\n",
            "           0       0.55      0.90      0.68      2921\n",
            "           1       0.73      0.27      0.39      2921\n",
            "\n",
            "    accuracy                           0.58      5842\n",
            "   macro avg       0.64      0.58      0.54      5842\n",
            "weighted avg       0.64      0.58      0.54      5842\n",
            "\n",
            "              precision    recall  f1-score   support\n",
            "\n",
            "           0       0.73      0.74      0.74       160\n",
            "           1       0.74      0.72      0.73       160\n",
            "\n",
            "    accuracy                           0.73       320\n",
            "   macro avg       0.73      0.73      0.73       320\n",
            "weighted avg       0.73      0.73      0.73       320\n",
            "\n"
          ]
        }
      ]
    },
    {
      "cell_type": "markdown",
      "source": [
        "###SVM"
      ],
      "metadata": {
        "id": "49O6FUkmj1Qj"
      }
    },
    {
      "cell_type": "code",
      "source": [
        "def SVM(X_train, X_test, y_train, y_test):\n",
        "    svm = SVC()\n",
        "    param_grid = {'C': [0.1, 1, 10],'kernel': ['linear', 'rbf'],'gamma': ['scale', 'auto']}\n",
        "    grid_search = GridSearchCV(svm, param_grid, cv=5)\n",
        "    grid_search.fit(X_train, y_train)\n",
        "    best_model = grid_search.best_estimator_\n",
        "    predictions = best_model.predict(X_test)\n",
        "    print(classification_report(y_test, predictions))\n",
        "    score=best_model.score(X_test,y_test)\n",
        "    return score"
      ],
      "metadata": {
        "id": "rGJbnNErjs6M"
      },
      "execution_count": 265,
      "outputs": []
    },
    {
      "cell_type": "code",
      "source": [
        "#oversample\n",
        "SVM_score=SVM(X_train_oversampled,X_test_oversampled,y_train_oversampled,y_test_oversampled)\n",
        "results_dict['SVM_oversample']=SVM_score\n",
        "\n",
        "#undersample\n",
        "SVM_score=SVM(X_train_undersampled,X_test_undersampled,y_train_undersampled,y_test_undersampled)\n",
        "results_dict['SVM_undersampled']=SVM_score"
      ],
      "metadata": {
        "colab": {
          "base_uri": "https://localhost:8080/"
        },
        "id": "VskPhpwrkm8W",
        "outputId": "ca7e3e0f-b2bd-4c60-9f5f-d889a663acc1"
      },
      "execution_count": 264,
      "outputs": [
        {
          "output_type": "stream",
          "name": "stdout",
          "text": [
            "              precision    recall  f1-score   support\n",
            "\n",
            "           0       0.89      0.59      0.71      2921\n",
            "           1       0.69      0.93      0.79      2921\n",
            "\n",
            "    accuracy                           0.76      5842\n",
            "   macro avg       0.79      0.76      0.75      5842\n",
            "weighted avg       0.79      0.76      0.75      5842\n",
            "\n",
            "              precision    recall  f1-score   support\n",
            "\n",
            "           0       0.89      0.65      0.75       160\n",
            "           1       0.72      0.92      0.81       160\n",
            "\n",
            "    accuracy                           0.78       320\n",
            "   macro avg       0.81      0.78      0.78       320\n",
            "weighted avg       0.81      0.78      0.78       320\n",
            "\n"
          ]
        }
      ]
    },
    {
      "cell_type": "markdown",
      "source": [
        "### Decision Tree Classifier"
      ],
      "metadata": {
        "id": "7B_oUywolRcl"
      }
    },
    {
      "cell_type": "code",
      "source": [
        "def DecisionTree(X_train, X_test, y_train, y_test):\n",
        "    dt = DecisionTreeClassifier()\n",
        "    param_grid = {'criterion': ['gini', 'entropy'],'max_depth': [None, 5, 10, 20],'min_samples_split': [2, 5, 10]}\n",
        "    grid_search = GridSearchCV(dt, param_grid, cv=5)\n",
        "    grid_search.fit(X_train, y_train)\n",
        "    best_model = grid_search.best_estimator_\n",
        "    predictions = best_model.predict(X_test)\n",
        "    print(classification_report(y_test, predictions))\n",
        "    score=best_model.score(X_test,y_test)\n",
        "    return score"
      ],
      "metadata": {
        "id": "TThav4TFmfDU"
      },
      "execution_count": 271,
      "outputs": []
    },
    {
      "cell_type": "code",
      "source": [
        "#oversample\n",
        "DecisionTree_score=DecisionTree(X_train_oversampled,X_test_oversampled,y_train_oversampled,y_test_oversampled)\n",
        "results_dict['DecisionTree_oversample']=DecisionTree_score\n",
        "\n",
        "#undersample\n",
        "DecisionTree_score=DecisionTree(X_train_undersampled,X_test_undersampled,y_train_undersampled,y_test_undersampled)\n",
        "results_dict['DecisionTree_undersampled']=DecisionTree_score"
      ],
      "metadata": {
        "colab": {
          "base_uri": "https://localhost:8080/"
        },
        "id": "tY2KotZdmu_P",
        "outputId": "efc6e666-48ae-4eca-b169-440cb1f6b9b8"
      },
      "execution_count": 276,
      "outputs": [
        {
          "output_type": "stream",
          "name": "stdout",
          "text": [
            "              precision    recall  f1-score   support\n",
            "\n",
            "           0       0.53      0.94      0.68      2921\n",
            "           1       0.74      0.17      0.27      2921\n",
            "\n",
            "    accuracy                           0.56      5842\n",
            "   macro avg       0.64      0.56      0.48      5842\n",
            "weighted avg       0.64      0.56      0.48      5842\n",
            "\n",
            "              precision    recall  f1-score   support\n",
            "\n",
            "           0       0.81      0.69      0.74       160\n",
            "           1       0.73      0.84      0.78       160\n",
            "\n",
            "    accuracy                           0.76       320\n",
            "   macro avg       0.77      0.76      0.76       320\n",
            "weighted avg       0.77      0.76      0.76       320\n",
            "\n"
          ]
        }
      ]
    },
    {
      "cell_type": "markdown",
      "source": [
        "###Random Forest"
      ],
      "metadata": {
        "id": "tX-nXAHItYb9"
      }
    },
    {
      "cell_type": "code",
      "source": [
        "def RandomForest(X_train, X_test, y_train, y_test):\n",
        "    rf = RandomForestClassifier()\n",
        "    param_grid = {'n_estimators': [100, 200, 300],'max_depth': [None, 5, 10],'min_samples_split': [2, 5, 10]}\n",
        "    grid_search = GridSearchCV(rf, param_grid, cv=5)\n",
        "    grid_search.fit(X_train, y_train)\n",
        "    best_model = grid_search.best_estimator_\n",
        "    predictions = best_model.predict(X_test)\n",
        "    print(classification_report(y_test, predictions))\n",
        "    score=best_model.score(X_test,y_test)\n",
        "    return score"
      ],
      "metadata": {
        "id": "i1vLR8ICtYof"
      },
      "execution_count": 275,
      "outputs": []
    },
    {
      "cell_type": "code",
      "source": [
        "#oversample\n",
        "RandomForest_score=RandomForest(X_train_oversampled,X_test_oversampled,y_train_oversampled,y_test_oversampled)\n",
        "results_dict['RandomForest_oversample']=RandomForest_score\n",
        "\n",
        "#undersample\n",
        "RandomForest_score=RandomForest(X_train_undersampled,X_test_undersampled,y_train_undersampled,y_test_undersampled)\n",
        "results_dict['RandomForest_undersampled']=RandomForest_score"
      ],
      "metadata": {
        "colab": {
          "base_uri": "https://localhost:8080/"
        },
        "id": "V6B2hbt1uLWO",
        "outputId": "6ddb9eea-83c3-4d4f-9b6a-b8da52eb5a2f"
      },
      "execution_count": 279,
      "outputs": [
        {
          "output_type": "stream",
          "name": "stdout",
          "text": [
            "              precision    recall  f1-score   support\n",
            "\n",
            "           0       0.51      1.00      0.67      2921\n",
            "           1       0.94      0.04      0.08      2921\n",
            "\n",
            "    accuracy                           0.52      5842\n",
            "   macro avg       0.72      0.52      0.38      5842\n",
            "weighted avg       0.72      0.52      0.38      5842\n",
            "\n",
            "              precision    recall  f1-score   support\n",
            "\n",
            "           0       0.86      0.71      0.78       160\n",
            "           1       0.75      0.89      0.81       160\n",
            "\n",
            "    accuracy                           0.80       320\n",
            "   macro avg       0.81      0.80      0.80       320\n",
            "weighted avg       0.81      0.80      0.80       320\n",
            "\n"
          ]
        }
      ]
    },
    {
      "cell_type": "code",
      "source": [
        "results_dict"
      ],
      "metadata": {
        "colab": {
          "base_uri": "https://localhost:8080/"
        },
        "id": "4B69VhTrrgyG",
        "outputId": "3cdd84f6-7fcf-4604-a0a1-fbd1db5071f1"
      },
      "execution_count": 280,
      "outputs": [
        {
          "output_type": "execute_result",
          "data": {
            "text/plain": [
              "{'logestic_reg': 0.749914412872304,\n",
              " 'logestic_reg_oversample': 0.749914412872304,\n",
              " 'logestic_reg_undersampled': 0.7875,\n",
              " 'LDA_oversample': 0.7434097911674085,\n",
              " 'QDA_oversample': 0.7452927079767203,\n",
              " 'QDA_undersampled': 0.68125,\n",
              " 'LDA_undersampled': 0.7875,\n",
              " 'naive_bayes_oversample': 0.7329681615884971,\n",
              " 'naive_bayes_undersampled': 0.778125,\n",
              " 'KNN_oversample': 0.5843889079082506,\n",
              " 'KNN_undersampled': 0.734375,\n",
              " 'SVM_oversample': 0.7555631633002396,\n",
              " 'SVM_undersampled': 0.784375,\n",
              " 'DecisionTree_oversample': 0.5551181102362205,\n",
              " 'DecisionTree_undersampled': 0.7625,\n",
              " 'RandomForest_oversample': 0.5196850393700787,\n",
              " 'RandomForest_undersampled': 0.796875}"
            ]
          },
          "metadata": {},
          "execution_count": 280
        }
      ]
    }
  ]
}